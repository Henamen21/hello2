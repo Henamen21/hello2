{
 "cells": [
  {
   "cell_type": "code",
   "execution_count": 330,
   "id": "e3cdd3dc",
   "metadata": {},
   "outputs": [],
   "source": [
    "import pandas as pd"
   ]
  },
  {
   "cell_type": "code",
   "execution_count": 331,
   "id": "619367b8",
   "metadata": {},
   "outputs": [],
   "source": [
    "data1 = pd.read_csv(\"data_1.csv\")\n",
    "data2 = pd.read_csv(\"data_2.csv\")\n",
    "training_df = pd.read_excel(\"training_data.xlsx\")"
   ]
  },
  {
   "cell_type": "code",
   "execution_count": 332,
   "id": "4839dd36",
   "metadata": {},
   "outputs": [],
   "source": [
    "main_df = pd.concat([data1,data2])"
   ]
  },
  {
   "cell_type": "markdown",
   "id": "c1585416",
   "metadata": {},
   "source": [
    "# Cleaning Testing data"
   ]
  },
  {
   "cell_type": "code",
   "execution_count": 333,
   "id": "9dddb15b",
   "metadata": {},
   "outputs": [
    {
     "data": {
      "text/plain": [
       "Column1              True\n",
       "customerID          False\n",
       "gender              False\n",
       "SeniorCitizen       False\n",
       "Partner             False\n",
       "Dependents          False\n",
       "tenure              False\n",
       "PhoneService        False\n",
       "MultipleLines        True\n",
       "InternetService     False\n",
       "OnlineSecurity       True\n",
       "OnlineBackup         True\n",
       "DeviceProtection     True\n",
       "TechSupport          True\n",
       "StreamingTV          True\n",
       "StreamingMovies      True\n",
       "Contract            False\n",
       "PaperlessBilling    False\n",
       "PaymentMethod       False\n",
       "MonthlyCharges      False\n",
       "TotalCharges         True\n",
       "Churn                True\n",
       "dtype: bool"
      ]
     },
     "execution_count": 333,
     "metadata": {},
     "output_type": "execute_result"
    }
   ],
   "source": [
    "main_df.isnull().any()"
   ]
  },
  {
   "cell_type": "markdown",
   "id": "1f561f08",
   "metadata": {},
   "source": [
    "## Handling \"Column1\""
   ]
  },
  {
   "cell_type": "code",
   "execution_count": 334,
   "id": "a04462ae",
   "metadata": {},
   "outputs": [
    {
     "data": {
      "text/plain": [
       "0       0.0\n",
       "1       1.0\n",
       "2       2.0\n",
       "3       3.0\n",
       "4       4.0\n",
       "       ... \n",
       "2038    NaN\n",
       "2039    NaN\n",
       "2040    NaN\n",
       "2041    NaN\n",
       "2042    NaN\n",
       "Name: Column1, Length: 5043, dtype: float64"
      ]
     },
     "execution_count": 334,
     "metadata": {},
     "output_type": "execute_result"
    }
   ],
   "source": [
    "main_df.Column1"
   ]
  },
  {
   "cell_type": "code",
   "execution_count": 335,
   "id": "a3bb1e48",
   "metadata": {},
   "outputs": [],
   "source": [
    "main_df.drop('Column1', inplace=True, axis=1)"
   ]
  },
  {
   "cell_type": "code",
   "execution_count": 336,
   "id": "068292c1",
   "metadata": {},
   "outputs": [
    {
     "data": {
      "text/html": [
       "<div>\n",
       "<style scoped>\n",
       "    .dataframe tbody tr th:only-of-type {\n",
       "        vertical-align: middle;\n",
       "    }\n",
       "\n",
       "    .dataframe tbody tr th {\n",
       "        vertical-align: top;\n",
       "    }\n",
       "\n",
       "    .dataframe thead th {\n",
       "        text-align: right;\n",
       "    }\n",
       "</style>\n",
       "<table border=\"1\" class=\"dataframe\">\n",
       "  <thead>\n",
       "    <tr style=\"text-align: right;\">\n",
       "      <th></th>\n",
       "      <th>customerID</th>\n",
       "      <th>gender</th>\n",
       "      <th>SeniorCitizen</th>\n",
       "      <th>Partner</th>\n",
       "      <th>Dependents</th>\n",
       "      <th>tenure</th>\n",
       "      <th>PhoneService</th>\n",
       "      <th>MultipleLines</th>\n",
       "      <th>InternetService</th>\n",
       "      <th>OnlineSecurity</th>\n",
       "      <th>...</th>\n",
       "      <th>DeviceProtection</th>\n",
       "      <th>TechSupport</th>\n",
       "      <th>StreamingTV</th>\n",
       "      <th>StreamingMovies</th>\n",
       "      <th>Contract</th>\n",
       "      <th>PaperlessBilling</th>\n",
       "      <th>PaymentMethod</th>\n",
       "      <th>MonthlyCharges</th>\n",
       "      <th>TotalCharges</th>\n",
       "      <th>Churn</th>\n",
       "    </tr>\n",
       "  </thead>\n",
       "  <tbody>\n",
       "    <tr>\n",
       "      <th>0</th>\n",
       "      <td>7590-VHVEG</td>\n",
       "      <td>Female</td>\n",
       "      <td>False</td>\n",
       "      <td>True</td>\n",
       "      <td>False</td>\n",
       "      <td>1</td>\n",
       "      <td>False</td>\n",
       "      <td>NaN</td>\n",
       "      <td>DSL</td>\n",
       "      <td>False</td>\n",
       "      <td>...</td>\n",
       "      <td>False</td>\n",
       "      <td>False</td>\n",
       "      <td>False</td>\n",
       "      <td>False</td>\n",
       "      <td>Month-to-month</td>\n",
       "      <td>True</td>\n",
       "      <td>Electronic check</td>\n",
       "      <td>29.850000</td>\n",
       "      <td>29.85</td>\n",
       "      <td>False</td>\n",
       "    </tr>\n",
       "    <tr>\n",
       "      <th>1</th>\n",
       "      <td>5575-GNVDE</td>\n",
       "      <td>Male</td>\n",
       "      <td>False</td>\n",
       "      <td>False</td>\n",
       "      <td>False</td>\n",
       "      <td>34</td>\n",
       "      <td>True</td>\n",
       "      <td>False</td>\n",
       "      <td>DSL</td>\n",
       "      <td>True</td>\n",
       "      <td>...</td>\n",
       "      <td>True</td>\n",
       "      <td>False</td>\n",
       "      <td>False</td>\n",
       "      <td>False</td>\n",
       "      <td>One year</td>\n",
       "      <td>False</td>\n",
       "      <td>Mailed check</td>\n",
       "      <td>56.950001</td>\n",
       "      <td>1889.5</td>\n",
       "      <td>False</td>\n",
       "    </tr>\n",
       "    <tr>\n",
       "      <th>2</th>\n",
       "      <td>3668-QPYBK</td>\n",
       "      <td>Male</td>\n",
       "      <td>False</td>\n",
       "      <td>False</td>\n",
       "      <td>False</td>\n",
       "      <td>2</td>\n",
       "      <td>True</td>\n",
       "      <td>False</td>\n",
       "      <td>DSL</td>\n",
       "      <td>True</td>\n",
       "      <td>...</td>\n",
       "      <td>False</td>\n",
       "      <td>False</td>\n",
       "      <td>False</td>\n",
       "      <td>False</td>\n",
       "      <td>Month-to-month</td>\n",
       "      <td>True</td>\n",
       "      <td>Mailed check</td>\n",
       "      <td>53.849998</td>\n",
       "      <td>108.150002</td>\n",
       "      <td>True</td>\n",
       "    </tr>\n",
       "    <tr>\n",
       "      <th>3</th>\n",
       "      <td>7795-CFOCW</td>\n",
       "      <td>Male</td>\n",
       "      <td>False</td>\n",
       "      <td>False</td>\n",
       "      <td>False</td>\n",
       "      <td>45</td>\n",
       "      <td>False</td>\n",
       "      <td>NaN</td>\n",
       "      <td>DSL</td>\n",
       "      <td>True</td>\n",
       "      <td>...</td>\n",
       "      <td>True</td>\n",
       "      <td>True</td>\n",
       "      <td>False</td>\n",
       "      <td>False</td>\n",
       "      <td>One year</td>\n",
       "      <td>False</td>\n",
       "      <td>Bank transfer (automatic)</td>\n",
       "      <td>42.299999</td>\n",
       "      <td>1840.75</td>\n",
       "      <td>False</td>\n",
       "    </tr>\n",
       "    <tr>\n",
       "      <th>4</th>\n",
       "      <td>9237-HQITU</td>\n",
       "      <td>Female</td>\n",
       "      <td>False</td>\n",
       "      <td>False</td>\n",
       "      <td>False</td>\n",
       "      <td>2</td>\n",
       "      <td>True</td>\n",
       "      <td>False</td>\n",
       "      <td>Fiber optic</td>\n",
       "      <td>False</td>\n",
       "      <td>...</td>\n",
       "      <td>False</td>\n",
       "      <td>False</td>\n",
       "      <td>False</td>\n",
       "      <td>False</td>\n",
       "      <td>Month-to-month</td>\n",
       "      <td>True</td>\n",
       "      <td>Electronic check</td>\n",
       "      <td>70.699997</td>\n",
       "      <td>151.649994</td>\n",
       "      <td>True</td>\n",
       "    </tr>\n",
       "    <tr>\n",
       "      <th>...</th>\n",
       "      <td>...</td>\n",
       "      <td>...</td>\n",
       "      <td>...</td>\n",
       "      <td>...</td>\n",
       "      <td>...</td>\n",
       "      <td>...</td>\n",
       "      <td>...</td>\n",
       "      <td>...</td>\n",
       "      <td>...</td>\n",
       "      <td>...</td>\n",
       "      <td>...</td>\n",
       "      <td>...</td>\n",
       "      <td>...</td>\n",
       "      <td>...</td>\n",
       "      <td>...</td>\n",
       "      <td>...</td>\n",
       "      <td>...</td>\n",
       "      <td>...</td>\n",
       "      <td>...</td>\n",
       "      <td>...</td>\n",
       "      <td>...</td>\n",
       "    </tr>\n",
       "    <tr>\n",
       "      <th>2038</th>\n",
       "      <td>6840-RESVB</td>\n",
       "      <td>Male</td>\n",
       "      <td>0</td>\n",
       "      <td>Yes</td>\n",
       "      <td>Yes</td>\n",
       "      <td>24</td>\n",
       "      <td>Yes</td>\n",
       "      <td>Yes</td>\n",
       "      <td>DSL</td>\n",
       "      <td>Yes</td>\n",
       "      <td>...</td>\n",
       "      <td>Yes</td>\n",
       "      <td>Yes</td>\n",
       "      <td>Yes</td>\n",
       "      <td>Yes</td>\n",
       "      <td>One year</td>\n",
       "      <td>Yes</td>\n",
       "      <td>Mailed check</td>\n",
       "      <td>84.800000</td>\n",
       "      <td>1990.5</td>\n",
       "      <td>No</td>\n",
       "    </tr>\n",
       "    <tr>\n",
       "      <th>2039</th>\n",
       "      <td>2234-XADUH</td>\n",
       "      <td>Female</td>\n",
       "      <td>0</td>\n",
       "      <td>Yes</td>\n",
       "      <td>Yes</td>\n",
       "      <td>72</td>\n",
       "      <td>Yes</td>\n",
       "      <td>Yes</td>\n",
       "      <td>Fiber optic</td>\n",
       "      <td>No</td>\n",
       "      <td>...</td>\n",
       "      <td>Yes</td>\n",
       "      <td>No</td>\n",
       "      <td>Yes</td>\n",
       "      <td>Yes</td>\n",
       "      <td>One year</td>\n",
       "      <td>Yes</td>\n",
       "      <td>Credit card (automatic)</td>\n",
       "      <td>103.200000</td>\n",
       "      <td>7362.9</td>\n",
       "      <td>No</td>\n",
       "    </tr>\n",
       "    <tr>\n",
       "      <th>2040</th>\n",
       "      <td>4801-JZAZL</td>\n",
       "      <td>Female</td>\n",
       "      <td>0</td>\n",
       "      <td>Yes</td>\n",
       "      <td>Yes</td>\n",
       "      <td>11</td>\n",
       "      <td>No</td>\n",
       "      <td>No phone service</td>\n",
       "      <td>DSL</td>\n",
       "      <td>Yes</td>\n",
       "      <td>...</td>\n",
       "      <td>No</td>\n",
       "      <td>No</td>\n",
       "      <td>No</td>\n",
       "      <td>No</td>\n",
       "      <td>Month-to-month</td>\n",
       "      <td>Yes</td>\n",
       "      <td>Electronic check</td>\n",
       "      <td>29.600000</td>\n",
       "      <td>346.45</td>\n",
       "      <td>No</td>\n",
       "    </tr>\n",
       "    <tr>\n",
       "      <th>2041</th>\n",
       "      <td>8361-LTMKD</td>\n",
       "      <td>Male</td>\n",
       "      <td>1</td>\n",
       "      <td>Yes</td>\n",
       "      <td>No</td>\n",
       "      <td>4</td>\n",
       "      <td>Yes</td>\n",
       "      <td>Yes</td>\n",
       "      <td>Fiber optic</td>\n",
       "      <td>No</td>\n",
       "      <td>...</td>\n",
       "      <td>No</td>\n",
       "      <td>No</td>\n",
       "      <td>No</td>\n",
       "      <td>No</td>\n",
       "      <td>Month-to-month</td>\n",
       "      <td>Yes</td>\n",
       "      <td>Mailed check</td>\n",
       "      <td>74.400000</td>\n",
       "      <td>306.6</td>\n",
       "      <td>Yes</td>\n",
       "    </tr>\n",
       "    <tr>\n",
       "      <th>2042</th>\n",
       "      <td>3186-AJIEK</td>\n",
       "      <td>Male</td>\n",
       "      <td>0</td>\n",
       "      <td>No</td>\n",
       "      <td>No</td>\n",
       "      <td>66</td>\n",
       "      <td>Yes</td>\n",
       "      <td>No</td>\n",
       "      <td>Fiber optic</td>\n",
       "      <td>Yes</td>\n",
       "      <td>...</td>\n",
       "      <td>Yes</td>\n",
       "      <td>Yes</td>\n",
       "      <td>Yes</td>\n",
       "      <td>Yes</td>\n",
       "      <td>Two year</td>\n",
       "      <td>Yes</td>\n",
       "      <td>Bank transfer (automatic)</td>\n",
       "      <td>105.650000</td>\n",
       "      <td>6844.5</td>\n",
       "      <td>No</td>\n",
       "    </tr>\n",
       "  </tbody>\n",
       "</table>\n",
       "<p>5043 rows × 21 columns</p>\n",
       "</div>"
      ],
      "text/plain": [
       "      customerID  gender SeniorCitizen Partner Dependents  tenure  \\\n",
       "0     7590-VHVEG  Female         False    True      False       1   \n",
       "1     5575-GNVDE    Male         False   False      False      34   \n",
       "2     3668-QPYBK    Male         False   False      False       2   \n",
       "3     7795-CFOCW    Male         False   False      False      45   \n",
       "4     9237-HQITU  Female         False   False      False       2   \n",
       "...          ...     ...           ...     ...        ...     ...   \n",
       "2038  6840-RESVB    Male             0     Yes        Yes      24   \n",
       "2039  2234-XADUH  Female             0     Yes        Yes      72   \n",
       "2040  4801-JZAZL  Female             0     Yes        Yes      11   \n",
       "2041  8361-LTMKD    Male             1     Yes         No       4   \n",
       "2042  3186-AJIEK    Male             0      No         No      66   \n",
       "\n",
       "     PhoneService     MultipleLines InternetService OnlineSecurity  ...  \\\n",
       "0           False               NaN             DSL          False  ...   \n",
       "1            True             False             DSL           True  ...   \n",
       "2            True             False             DSL           True  ...   \n",
       "3           False               NaN             DSL           True  ...   \n",
       "4            True             False     Fiber optic          False  ...   \n",
       "...           ...               ...             ...            ...  ...   \n",
       "2038          Yes               Yes             DSL            Yes  ...   \n",
       "2039          Yes               Yes     Fiber optic             No  ...   \n",
       "2040           No  No phone service             DSL            Yes  ...   \n",
       "2041          Yes               Yes     Fiber optic             No  ...   \n",
       "2042          Yes                No     Fiber optic            Yes  ...   \n",
       "\n",
       "     DeviceProtection TechSupport StreamingTV StreamingMovies        Contract  \\\n",
       "0               False       False       False           False  Month-to-month   \n",
       "1                True       False       False           False        One year   \n",
       "2               False       False       False           False  Month-to-month   \n",
       "3                True        True       False           False        One year   \n",
       "4               False       False       False           False  Month-to-month   \n",
       "...               ...         ...         ...             ...             ...   \n",
       "2038              Yes         Yes         Yes             Yes        One year   \n",
       "2039              Yes          No         Yes             Yes        One year   \n",
       "2040               No          No          No              No  Month-to-month   \n",
       "2041               No          No          No              No  Month-to-month   \n",
       "2042              Yes         Yes         Yes             Yes        Two year   \n",
       "\n",
       "     PaperlessBilling              PaymentMethod MonthlyCharges  TotalCharges  \\\n",
       "0                True           Electronic check      29.850000         29.85   \n",
       "1               False               Mailed check      56.950001        1889.5   \n",
       "2                True               Mailed check      53.849998    108.150002   \n",
       "3               False  Bank transfer (automatic)      42.299999       1840.75   \n",
       "4                True           Electronic check      70.699997    151.649994   \n",
       "...               ...                        ...            ...           ...   \n",
       "2038              Yes               Mailed check      84.800000        1990.5   \n",
       "2039              Yes    Credit card (automatic)     103.200000        7362.9   \n",
       "2040              Yes           Electronic check      29.600000        346.45   \n",
       "2041              Yes               Mailed check      74.400000         306.6   \n",
       "2042              Yes  Bank transfer (automatic)     105.650000        6844.5   \n",
       "\n",
       "      Churn  \n",
       "0     False  \n",
       "1     False  \n",
       "2      True  \n",
       "3     False  \n",
       "4      True  \n",
       "...     ...  \n",
       "2038     No  \n",
       "2039     No  \n",
       "2040     No  \n",
       "2041    Yes  \n",
       "2042     No  \n",
       "\n",
       "[5043 rows x 21 columns]"
      ]
     },
     "execution_count": 336,
     "metadata": {},
     "output_type": "execute_result"
    }
   ],
   "source": [
    "main_df"
   ]
  },
  {
   "cell_type": "code",
   "execution_count": 337,
   "id": "d284966b",
   "metadata": {},
   "outputs": [
    {
     "data": {
      "text/plain": [
       "customerID          False\n",
       "gender              False\n",
       "SeniorCitizen       False\n",
       "Partner             False\n",
       "Dependents          False\n",
       "tenure              False\n",
       "PhoneService        False\n",
       "MultipleLines        True\n",
       "InternetService     False\n",
       "OnlineSecurity       True\n",
       "OnlineBackup         True\n",
       "DeviceProtection     True\n",
       "TechSupport          True\n",
       "StreamingTV          True\n",
       "StreamingMovies      True\n",
       "Contract            False\n",
       "PaperlessBilling    False\n",
       "PaymentMethod       False\n",
       "MonthlyCharges      False\n",
       "TotalCharges         True\n",
       "Churn                True\n",
       "dtype: bool"
      ]
     },
     "execution_count": 337,
     "metadata": {},
     "output_type": "execute_result"
    }
   ],
   "source": [
    "main_df.isnull().any()"
   ]
  },
  {
   "cell_type": "markdown",
   "id": "734b01bd",
   "metadata": {},
   "source": [
    "## Handling column \"MultipleLines\""
   ]
  },
  {
   "cell_type": "code",
   "execution_count": 338,
   "id": "686b390a",
   "metadata": {},
   "outputs": [
    {
     "data": {
      "text/plain": [
       "array([nan, False, True, 'No', 'No phone service', 'Yes'], dtype=object)"
      ]
     },
     "execution_count": 338,
     "metadata": {},
     "output_type": "execute_result"
    }
   ],
   "source": [
    "main_df[\"MultipleLines\"].unique()"
   ]
  },
  {
   "cell_type": "code",
   "execution_count": 339,
   "id": "d2a56ce9",
   "metadata": {},
   "outputs": [],
   "source": [
    "main_df[\"MultipleLines\"] = main_df[\"MultipleLines\"].astype(str) # changing to string"
   ]
  },
  {
   "cell_type": "code",
   "execution_count": 340,
   "id": "41457e01",
   "metadata": {},
   "outputs": [],
   "source": [
    "#  replacing values\n",
    "\n",
    "main_df[\"MultipleLines\"] = main_df[\"MultipleLines\"].apply(lambda x: x.replace(\"False\",\"No\"))\n",
    "main_df[\"MultipleLines\"] = main_df[\"MultipleLines\"].apply(lambda x: x.replace('No phone service',\"No\"))\n",
    "main_df[\"MultipleLines\"] = main_df[\"MultipleLines\"].apply(lambda x: x.replace('True',\"Yes\"))\n",
    "main_df[\"MultipleLines\"] = main_df[\"MultipleLines\"].apply(lambda x: x.replace(\"nan\",\"Yes\"))"
   ]
  },
  {
   "cell_type": "markdown",
   "id": "43ea41af",
   "metadata": {},
   "source": [
    "# Handling column \"OnlineSecurity\""
   ]
  },
  {
   "cell_type": "code",
   "execution_count": 341,
   "id": "8e9e86d8",
   "metadata": {},
   "outputs": [],
   "source": [
    "main_df[\"OnlineSecurity\"] = main_df[\"OnlineSecurity\"].astype(str)"
   ]
  },
  {
   "cell_type": "code",
   "execution_count": 342,
   "id": "d55341bc",
   "metadata": {},
   "outputs": [
    {
     "data": {
      "text/plain": [
       "array(['False', 'True', 'nan', 'No', 'Yes', 'No internet service'],\n",
       "      dtype=object)"
      ]
     },
     "execution_count": 342,
     "metadata": {},
     "output_type": "execute_result"
    }
   ],
   "source": [
    "main_df[\"OnlineSecurity\"].unique()"
   ]
  },
  {
   "cell_type": "code",
   "execution_count": 343,
   "id": "0c5e4bca",
   "metadata": {},
   "outputs": [],
   "source": [
    "#  replacing values\n",
    "\n",
    "main_df[\"OnlineSecurity\"] = main_df[\"OnlineSecurity\"].apply(lambda x: x.replace(\"False\",\"No\"))\n",
    "main_df[\"OnlineSecurity\"] = main_df[\"OnlineSecurity\"].apply(lambda x: x.replace('No internet service',\"No\"))\n",
    "main_df[\"OnlineSecurity\"] = main_df[\"OnlineSecurity\"].apply(lambda x: x.replace('True',\"Yes\"))\n",
    "main_df[\"OnlineSecurity\"] = main_df[\"OnlineSecurity\"].apply(lambda x: x.replace(\"nan\",\"No\"))"
   ]
  },
  {
   "cell_type": "markdown",
   "id": "2a5426cf",
   "metadata": {},
   "source": [
    "## Handling column \"OnlineBackup\""
   ]
  },
  {
   "cell_type": "code",
   "execution_count": 344,
   "id": "a12a68b5",
   "metadata": {},
   "outputs": [
    {
     "data": {
      "text/plain": [
       "array([True, False, nan, 'No', 'Yes', 'No internet service'], dtype=object)"
      ]
     },
     "execution_count": 344,
     "metadata": {},
     "output_type": "execute_result"
    }
   ],
   "source": [
    "main_df[\"OnlineBackup\"].unique()"
   ]
  },
  {
   "cell_type": "code",
   "execution_count": 345,
   "id": "4c2456f5",
   "metadata": {},
   "outputs": [],
   "source": [
    "main_df[\"OnlineBackup\"] = main_df[\"OnlineBackup\"].astype(str)"
   ]
  },
  {
   "cell_type": "code",
   "execution_count": 346,
   "id": "5ac97ba9",
   "metadata": {},
   "outputs": [],
   "source": [
    "#  replacing values\n",
    "\n",
    "main_df[\"OnlineBackup\"] = main_df[\"OnlineBackup\"].apply(lambda x: x.replace(\"False\",\"No\"))\n",
    "main_df[\"OnlineBackup\"] = main_df[\"OnlineBackup\"].apply(lambda x: x.replace('No internet service',\"No\"))\n",
    "main_df[\"OnlineBackup\"] = main_df[\"OnlineBackup\"].apply(lambda x: x.replace('True',\"Yes\"))\n",
    "main_df[\"OnlineBackup\"] = main_df[\"OnlineBackup\"].apply(lambda x: x.replace(\"nan\",\"No\"))"
   ]
  },
  {
   "cell_type": "markdown",
   "id": "ca7c3827",
   "metadata": {},
   "source": [
    "## Handling column \"DeviceProtection\""
   ]
  },
  {
   "cell_type": "code",
   "execution_count": 347,
   "id": "3ffa21c9",
   "metadata": {},
   "outputs": [
    {
     "data": {
      "text/plain": [
       "array([False, True, nan, 'No', 'Yes', 'No internet service'], dtype=object)"
      ]
     },
     "execution_count": 347,
     "metadata": {},
     "output_type": "execute_result"
    }
   ],
   "source": [
    "main_df[\"DeviceProtection\"].unique()"
   ]
  },
  {
   "cell_type": "code",
   "execution_count": 348,
   "id": "25cecaae",
   "metadata": {},
   "outputs": [],
   "source": [
    "main_df[\"DeviceProtection\"] = main_df[\"DeviceProtection\"].astype(str)"
   ]
  },
  {
   "cell_type": "code",
   "execution_count": 349,
   "id": "83c280bd",
   "metadata": {},
   "outputs": [],
   "source": [
    "#  replacing values\n",
    "\n",
    "main_df[\"DeviceProtection\"] = main_df[\"DeviceProtection\"].apply(lambda x: x.replace(\"False\",\"No\"))\n",
    "main_df[\"DeviceProtection\"] = main_df[\"DeviceProtection\"].apply(lambda x: x.replace('No internet service',\"No\"))\n",
    "main_df[\"DeviceProtection\"] = main_df[\"DeviceProtection\"].apply(lambda x: x.replace('True',\"Yes\"))\n",
    "main_df[\"DeviceProtection\"] = main_df[\"DeviceProtection\"].apply(lambda x: x.replace(\"nan\",\"No\"))"
   ]
  },
  {
   "cell_type": "markdown",
   "id": "8b0ac6df",
   "metadata": {},
   "source": [
    "## Handling column \"TechSupport\""
   ]
  },
  {
   "cell_type": "code",
   "execution_count": 350,
   "id": "c72d72ef",
   "metadata": {},
   "outputs": [
    {
     "data": {
      "text/plain": [
       "array([False, True, nan, 'Yes', 'No', 'No internet service'], dtype=object)"
      ]
     },
     "execution_count": 350,
     "metadata": {},
     "output_type": "execute_result"
    }
   ],
   "source": [
    "main_df[\"TechSupport\"].unique()"
   ]
  },
  {
   "cell_type": "code",
   "execution_count": 351,
   "id": "de64eb5a",
   "metadata": {},
   "outputs": [],
   "source": [
    "main_df[\"TechSupport\"] = main_df[\"TechSupport\"].astype(str)"
   ]
  },
  {
   "cell_type": "code",
   "execution_count": 352,
   "id": "4abef8ac",
   "metadata": {},
   "outputs": [],
   "source": [
    "#  replacing values\n",
    "\n",
    "main_df[\"TechSupport\"] = main_df[\"TechSupport\"].apply(lambda x: x.replace(\"False\",\"No\"))\n",
    "main_df[\"TechSupport\"] = main_df[\"TechSupport\"].apply(lambda x: x.replace('No internet service',\"No\"))\n",
    "main_df[\"TechSupport\"] = main_df[\"TechSupport\"].apply(lambda x: x.replace('True',\"Yes\"))\n",
    "main_df[\"TechSupport\"] = main_df[\"TechSupport\"].apply(lambda x: x.replace(\"nan\",\"No\"))"
   ]
  },
  {
   "cell_type": "markdown",
   "id": "2821288b",
   "metadata": {},
   "source": [
    "## Handling column \"StreamingTV\""
   ]
  },
  {
   "cell_type": "code",
   "execution_count": 353,
   "id": "aacc0f7a",
   "metadata": {},
   "outputs": [
    {
     "data": {
      "text/plain": [
       "array([False, True, nan, 'No', 'Yes', 'No internet service'], dtype=object)"
      ]
     },
     "execution_count": 353,
     "metadata": {},
     "output_type": "execute_result"
    }
   ],
   "source": [
    "main_df[\"StreamingTV\"].unique()"
   ]
  },
  {
   "cell_type": "code",
   "execution_count": 354,
   "id": "1e7f33c7",
   "metadata": {},
   "outputs": [],
   "source": [
    "main_df[\"StreamingTV\"] = main_df[\"StreamingTV\"].astype(str)"
   ]
  },
  {
   "cell_type": "code",
   "execution_count": 355,
   "id": "df75273d",
   "metadata": {},
   "outputs": [],
   "source": [
    "#  replacing values\n",
    "\n",
    "main_df[\"StreamingTV\"] = main_df[\"StreamingTV\"].apply(lambda x: x.replace(\"False\",\"No\"))\n",
    "main_df[\"StreamingTV\"] = main_df[\"StreamingTV\"].apply(lambda x: x.replace('No internet service',\"No\"))\n",
    "main_df[\"StreamingTV\"] = main_df[\"StreamingTV\"].apply(lambda x: x.replace('True',\"Yes\"))\n",
    "main_df[\"StreamingTV\"] = main_df[\"StreamingTV\"].apply(lambda x: x.replace(\"nan\",\"No\"))"
   ]
  },
  {
   "cell_type": "markdown",
   "id": "10a7dbd2",
   "metadata": {},
   "source": [
    "## Handling column \"StreamingMovies\""
   ]
  },
  {
   "cell_type": "code",
   "execution_count": 356,
   "id": "1c78173c",
   "metadata": {},
   "outputs": [
    {
     "data": {
      "text/plain": [
       "array([False, True, nan, 'No', 'Yes', 'No internet service'], dtype=object)"
      ]
     },
     "execution_count": 356,
     "metadata": {},
     "output_type": "execute_result"
    }
   ],
   "source": [
    "main_df[\"StreamingMovies\"].unique()"
   ]
  },
  {
   "cell_type": "code",
   "execution_count": 357,
   "id": "6be07fc1",
   "metadata": {},
   "outputs": [],
   "source": [
    "main_df[\"StreamingMovies\"] = main_df[\"StreamingMovies\"].astype(str)"
   ]
  },
  {
   "cell_type": "code",
   "execution_count": 358,
   "id": "aacb5805",
   "metadata": {},
   "outputs": [],
   "source": [
    "#  replacing values\n",
    "\n",
    "main_df[\"StreamingMovies\"] = main_df[\"StreamingMovies\"].apply(lambda x: x.replace(\"False\",\"No\"))\n",
    "main_df[\"StreamingMovies\"] = main_df[\"StreamingMovies\"].apply(lambda x: x.replace('No internet service',\"No\"))\n",
    "main_df[\"StreamingMovies\"] = main_df[\"StreamingMovies\"].apply(lambda x: x.replace('True',\"Yes\"))\n",
    "main_df[\"StreamingMovies\"] = main_df[\"StreamingMovies\"].apply(lambda x: x.replace(\"nan\",\"No\"))"
   ]
  },
  {
   "cell_type": "markdown",
   "id": "825c2584",
   "metadata": {},
   "source": [
    "## Handling column \"TotalCharges\""
   ]
  },
  {
   "cell_type": "code",
   "execution_count": 359,
   "id": "d2e75461",
   "metadata": {},
   "outputs": [
    {
     "data": {
      "text/plain": [
       "0       False\n",
       "1       False\n",
       "2       False\n",
       "3       False\n",
       "4       False\n",
       "        ...  \n",
       "2038    False\n",
       "2039    False\n",
       "2040    False\n",
       "2041    False\n",
       "2042    False\n",
       "Name: TotalCharges, Length: 5043, dtype: bool"
      ]
     },
     "execution_count": 359,
     "metadata": {},
     "output_type": "execute_result"
    }
   ],
   "source": [
    "main_df[\"TotalCharges\"].isnull() "
   ]
  },
  {
   "cell_type": "code",
   "execution_count": 360,
   "id": "55f60c9b",
   "metadata": {},
   "outputs": [],
   "source": [
    "a = main_df[\"TotalCharges\"].dropna() # dropping null values "
   ]
  },
  {
   "cell_type": "code",
   "execution_count": 361,
   "id": "12df3d19",
   "metadata": {},
   "outputs": [],
   "source": [
    "a = a.astype(str) # changing to string to replace non int values"
   ]
  },
  {
   "cell_type": "code",
   "execution_count": 362,
   "id": "30c01b57",
   "metadata": {},
   "outputs": [],
   "source": [
    "# replacing values\n",
    "\n",
    "a = a.apply(lambda x : x.replace(\"\",\"0\"))\n",
    "a = a.apply(lambda x : x.replace(\"0 0\",\"0\"))"
   ]
  },
  {
   "cell_type": "code",
   "execution_count": 363,
   "id": "0a757d11",
   "metadata": {},
   "outputs": [],
   "source": [
    "a = a.astype(float) # changing to float to calculate mean"
   ]
  },
  {
   "cell_type": "code",
   "execution_count": 364,
   "id": "309b2630",
   "metadata": {},
   "outputs": [],
   "source": [
    "my_mean = a.mean()"
   ]
  },
  {
   "cell_type": "code",
   "execution_count": 365,
   "id": "d43e2665",
   "metadata": {},
   "outputs": [],
   "source": [
    "main_df[\"TotalCharges\"] = main_df[\"TotalCharges\"].fillna(my_mean) # filling null values by mean"
   ]
  },
  {
   "cell_type": "code",
   "execution_count": 366,
   "id": "3ae41617",
   "metadata": {},
   "outputs": [
    {
     "data": {
      "text/plain": [
       "0"
      ]
     },
     "execution_count": 366,
     "metadata": {},
     "output_type": "execute_result"
    }
   ],
   "source": [
    "main_df[\"TotalCharges\"].isnull().sum()"
   ]
  },
  {
   "cell_type": "markdown",
   "id": "39989827",
   "metadata": {},
   "source": [
    "## Handling column \"Churn\""
   ]
  },
  {
   "cell_type": "code",
   "execution_count": 367,
   "id": "f6f7caf3",
   "metadata": {},
   "outputs": [
    {
     "data": {
      "text/plain": [
       "array([False, True, nan, 'No', 'Yes'], dtype=object)"
      ]
     },
     "execution_count": 367,
     "metadata": {},
     "output_type": "execute_result"
    }
   ],
   "source": [
    "main_df[\"Churn\"].unique()"
   ]
  },
  {
   "cell_type": "code",
   "execution_count": 368,
   "id": "df2e9b3a",
   "metadata": {},
   "outputs": [],
   "source": [
    "main_df[\"Churn\"] = main_df[\"Churn\"].astype(str)"
   ]
  },
  {
   "cell_type": "code",
   "execution_count": 369,
   "id": "086ed819",
   "metadata": {},
   "outputs": [],
   "source": [
    "#  replacing values\n",
    "\n",
    "main_df[\"Churn\"] = main_df[\"Churn\"].apply(lambda x: x.replace(\"False\",\"No\"))\n",
    "main_df[\"Churn\"] = main_df[\"Churn\"].apply(lambda x: x.replace('True',\"Yes\"))\n",
    "main_df[\"Churn\"] = main_df[\"Churn\"].apply(lambda x: x.replace(\"nan\",\"No\"))"
   ]
  },
  {
   "cell_type": "code",
   "execution_count": 370,
   "id": "74a9a513",
   "metadata": {},
   "outputs": [
    {
     "data": {
      "text/plain": [
       "customerID          0\n",
       "gender              0\n",
       "SeniorCitizen       0\n",
       "Partner             0\n",
       "Dependents          0\n",
       "tenure              0\n",
       "PhoneService        0\n",
       "MultipleLines       0\n",
       "InternetService     0\n",
       "OnlineSecurity      0\n",
       "OnlineBackup        0\n",
       "DeviceProtection    0\n",
       "TechSupport         0\n",
       "StreamingTV         0\n",
       "StreamingMovies     0\n",
       "Contract            0\n",
       "PaperlessBilling    0\n",
       "PaymentMethod       0\n",
       "MonthlyCharges      0\n",
       "TotalCharges        0\n",
       "Churn               0\n",
       "dtype: int64"
      ]
     },
     "execution_count": 370,
     "metadata": {},
     "output_type": "execute_result"
    }
   ],
   "source": [
    "main_df.isnull().sum()"
   ]
  },
  {
   "cell_type": "markdown",
   "id": "453fbf25",
   "metadata": {},
   "source": [
    "## Handling column \"SeniorCitizen\""
   ]
  },
  {
   "cell_type": "code",
   "execution_count": 371,
   "id": "47a3e4a1",
   "metadata": {},
   "outputs": [
    {
     "data": {
      "text/plain": [
       "0       False\n",
       "1       False\n",
       "2       False\n",
       "3       False\n",
       "4       False\n",
       "        ...  \n",
       "2038        0\n",
       "2039        0\n",
       "2040        0\n",
       "2041        1\n",
       "2042        0\n",
       "Name: SeniorCitizen, Length: 5043, dtype: object"
      ]
     },
     "execution_count": 371,
     "metadata": {},
     "output_type": "execute_result"
    }
   ],
   "source": [
    "main_df[\"SeniorCitizen\"]"
   ]
  },
  {
   "cell_type": "code",
   "execution_count": 372,
   "id": "0934c0c8",
   "metadata": {},
   "outputs": [],
   "source": [
    "main_df[\"SeniorCitizen\"] = main_df[\"SeniorCitizen\"].astype(str)"
   ]
  },
  {
   "cell_type": "code",
   "execution_count": 373,
   "id": "caddef23",
   "metadata": {},
   "outputs": [],
   "source": [
    "main_df[\"SeniorCitizen\"] = main_df[\"SeniorCitizen\"].apply(lambda x : x.replace(\"0\",\"False\"))\n",
    "main_df[\"SeniorCitizen\"] = main_df[\"SeniorCitizen\"].apply(lambda x : x.replace(\"1\",\"True\"))"
   ]
  },
  {
   "cell_type": "markdown",
   "id": "d06615c8",
   "metadata": {},
   "source": [
    "## Handling column \"Partner\""
   ]
  },
  {
   "cell_type": "code",
   "execution_count": 374,
   "id": "ebec9713",
   "metadata": {},
   "outputs": [
    {
     "data": {
      "text/plain": [
       "array([True, False, 'No', 'Yes'], dtype=object)"
      ]
     },
     "execution_count": 374,
     "metadata": {},
     "output_type": "execute_result"
    }
   ],
   "source": [
    "main_df[\"Partner\"].unique()"
   ]
  },
  {
   "cell_type": "code",
   "execution_count": 375,
   "id": "255747cf",
   "metadata": {},
   "outputs": [],
   "source": [
    "main_df[\"Partner\"] = main_df[\"Partner\"].astype(str)"
   ]
  },
  {
   "cell_type": "code",
   "execution_count": 376,
   "id": "68be9ed4",
   "metadata": {},
   "outputs": [],
   "source": [
    "main_df[\"Partner\"] = main_df[\"Partner\"].apply(lambda x : x.replace(\"False\",\"No\"))\n",
    "main_df[\"Partner\"] = main_df[\"Partner\"].apply(lambda x : x.replace(\"True\",\"Yes\"))"
   ]
  },
  {
   "cell_type": "markdown",
   "id": "fdacdc85",
   "metadata": {},
   "source": [
    "## Handling column \"Dpendents\""
   ]
  },
  {
   "cell_type": "code",
   "execution_count": 377,
   "id": "9f20a3cd",
   "metadata": {},
   "outputs": [
    {
     "data": {
      "text/plain": [
       "array([False, True, 'No', 'Yes'], dtype=object)"
      ]
     },
     "execution_count": 377,
     "metadata": {},
     "output_type": "execute_result"
    }
   ],
   "source": [
    "main_df[\"Dependents\"].unique()"
   ]
  },
  {
   "cell_type": "code",
   "execution_count": 378,
   "id": "4796aff7",
   "metadata": {},
   "outputs": [],
   "source": [
    "main_df[\"Dependents\"] = main_df[\"Dependents\"].astype(str)"
   ]
  },
  {
   "cell_type": "code",
   "execution_count": 379,
   "id": "f2530d74",
   "metadata": {},
   "outputs": [],
   "source": [
    "main_df[\"Dependents\"] = main_df[\"Dependents\"].apply(lambda x : x.replace(\"False\",\"No\"))\n",
    "main_df[\"Dependents\"] = main_df[\"Dependents\"].apply(lambda x : x.replace(\"True\",\"Yes\"))"
   ]
  },
  {
   "cell_type": "markdown",
   "id": "f766727d",
   "metadata": {},
   "source": [
    "## Handling column \"PhoneService\""
   ]
  },
  {
   "cell_type": "code",
   "execution_count": 380,
   "id": "ef4fe75a",
   "metadata": {},
   "outputs": [
    {
     "data": {
      "text/plain": [
       "array([False, True, 'Yes', 'No'], dtype=object)"
      ]
     },
     "execution_count": 380,
     "metadata": {},
     "output_type": "execute_result"
    }
   ],
   "source": [
    "main_df[\"PhoneService\"].unique()"
   ]
  },
  {
   "cell_type": "code",
   "execution_count": 381,
   "id": "c056b6ec",
   "metadata": {},
   "outputs": [],
   "source": [
    "main_df[\"PhoneService\"] = main_df[\"PhoneService\"].astype(str)"
   ]
  },
  {
   "cell_type": "code",
   "execution_count": 382,
   "id": "f9434e74",
   "metadata": {},
   "outputs": [],
   "source": [
    "main_df[\"PhoneService\"] = main_df[\"PhoneService\"].apply(lambda x : x.replace(\"False\",\"No\"))\n",
    "main_df[\"PhoneService\"] = main_df[\"PhoneService\"].apply(lambda x : x.replace(\"True\",\"Yes\"))"
   ]
  },
  {
   "cell_type": "markdown",
   "id": "3c4b0055",
   "metadata": {},
   "source": [
    "## Handling column \"PaperlessBilling\""
   ]
  },
  {
   "cell_type": "code",
   "execution_count": 383,
   "id": "ce05058c",
   "metadata": {},
   "outputs": [
    {
     "data": {
      "text/plain": [
       "array([True, False, 'Yes', 'No'], dtype=object)"
      ]
     },
     "execution_count": 383,
     "metadata": {},
     "output_type": "execute_result"
    }
   ],
   "source": [
    "main_df[\"PaperlessBilling\"].unique()"
   ]
  },
  {
   "cell_type": "code",
   "execution_count": 384,
   "id": "1725b0a8",
   "metadata": {},
   "outputs": [],
   "source": [
    "main_df[\"PaperlessBilling\"] = main_df[\"PaperlessBilling\"].astype(str)"
   ]
  },
  {
   "cell_type": "code",
   "execution_count": 385,
   "id": "b7d50a2f",
   "metadata": {},
   "outputs": [],
   "source": [
    "main_df[\"PaperlessBilling\"] = main_df[\"PaperlessBilling\"].apply(lambda x : x.replace(\"False\",\"No\"))\n",
    "main_df[\"PaperlessBilling\"] = main_df[\"PaperlessBilling\"].apply(lambda x : x.replace(\"True\",\"Yes\"))"
   ]
  },
  {
   "cell_type": "code",
   "execution_count": null,
   "id": "91a49b06",
   "metadata": {},
   "outputs": [],
   "source": []
  },
  {
   "cell_type": "markdown",
   "id": "ea9811a0",
   "metadata": {},
   "source": [
    "### Now our data is cleaned"
   ]
  },
  {
   "cell_type": "code",
   "execution_count": 386,
   "id": "6cc93835",
   "metadata": {},
   "outputs": [],
   "source": [
    "main_df.to_csv(\"testing_data.csv\")"
   ]
  }
 ],
 "metadata": {
  "kernelspec": {
   "display_name": "Python 3 (ipykernel)",
   "language": "python",
   "name": "python3"
  },
  "language_info": {
   "codemirror_mode": {
    "name": "ipython",
    "version": 3
   },
   "file_extension": ".py",
   "mimetype": "text/x-python",
   "name": "python",
   "nbconvert_exporter": "python",
   "pygments_lexer": "ipython3",
   "version": "3.9.13"
  }
 },
 "nbformat": 4,
 "nbformat_minor": 5
}
